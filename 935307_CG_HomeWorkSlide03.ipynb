{
  "nbformat": 4,
  "nbformat_minor": 0,
  "metadata": {
    "colab": {
      "provenance": [],
      "authorship_tag": "ABX9TyORYb3tMA1XfKmova6lTFF3",
      "include_colab_link": true
    },
    "kernelspec": {
      "name": "python3",
      "display_name": "Python 3"
    },
    "language_info": {
      "name": "python"
    }
  },
  "cells": [
    {
      "cell_type": "markdown",
      "metadata": {
        "id": "view-in-github",
        "colab_type": "text"
      },
      "source": [
        "<a href=\"https://colab.research.google.com/github/Kawin101/935306-Artificial-intelligence/blob/main/935307_CG_HomeWorkSlide03.ipynb\" target=\"_parent\"><img src=\"https://colab.research.google.com/assets/colab-badge.svg\" alt=\"Open In Colab\"/></a>"
      ]
    },
    {
      "cell_type": "code",
      "execution_count": null,
      "metadata": {
        "colab": {
          "base_uri": "https://localhost:8080/"
        },
        "id": "8x9PjjOF78Yt",
        "outputId": "424bbee6-1aed-4c26-afa6-63eec16f692e"
      },
      "outputs": [
        {
          "output_type": "stream",
          "name": "stdout",
          "text": [
            "Gray = 150.45\n",
            "C,M,Y,K = ( 1.0 , 0.0 , 1.0 , 0.0 )\n"
          ]
        }
      ],
      "source": [
        "# Defind\n",
        "def GrayScale(r,g,b):\n",
        "  gs = 0.3*r + 0.59*g + 0.11*b\n",
        "  print('Gray =',gs)\n",
        "\n",
        "def RGBtoCMYK(r,g,b):\n",
        "# Defind\n",
        "  r1 = r/255\n",
        "  g1 = g/255\n",
        "  b1 = b/255\n",
        "  k = 1-max(r1,g1,b1)\n",
        "# Solution\n",
        "  C = (1-r1-k) / (1-k)\n",
        "  M = (1-g1-k) / (1-k)\n",
        "  Y = (1-b1-k) / (1-k)\n",
        "  print('C,M,Y,K =','(', C,',', M, ',',Y, ',',k, ')')\n",
        "\n",
        "# Output\n",
        "GrayScale(0,255,0)\n",
        "RGBtoCMYK(0,255,0)\n"
      ]
    }
  ]
}