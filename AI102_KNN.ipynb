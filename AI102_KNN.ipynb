{
  "nbformat": 4,
  "nbformat_minor": 0,
  "metadata": {
    "colab": {
      "provenance": [],
      "mount_file_id": "1cESDiDOOyV7kfVn_Iz9JpQ-qqIMnZy_t",
      "authorship_tag": "ABX9TyPVWl5gJGstrN5MrFYgDpyV",
      "include_colab_link": true
    },
    "kernelspec": {
      "name": "python3",
      "display_name": "Python 3"
    },
    "language_info": {
      "name": "python"
    }
  },
  "cells": [
    {
      "cell_type": "markdown",
      "metadata": {
        "id": "view-in-github",
        "colab_type": "text"
      },
      "source": [
        "<a href=\"https://colab.research.google.com/github/Kawin101/935306-Artificial-intelligence/blob/main/AI102_KNN.ipynb\" target=\"_parent\"><img src=\"https://colab.research.google.com/assets/colab-badge.svg\" alt=\"Open In Colab\"/></a>"
      ]
    },
    {
      "cell_type": "code",
      "execution_count": null,
      "metadata": {
        "id": "2dFDWy0pl8cq"
      },
      "outputs": [],
      "source": [
        "# file: kNN.py\n",
        "import numpy as np\n",
        "\n",
        "def kNN(Xtrain, Ytrain, Xtest, k=1):\n",
        "  Ytest = []\n",
        "  for x in Xtest:\n",
        "      d = np.sqrt(np.sum((Xtrain - x)**2, axis=1))\n",
        "      idx = np.argsord(d)\n",
        "      (values, counts) = np.unique(Ytrain[idx[:k]], return_counts=True)\n",
        "      ind = np.argmax(counts)\n",
        "      Ytest.append(values[ind])\n",
        "  return Ytest"
      ]
    },
    {
      "cell_type": "code",
      "source": [
        "# file: iris_dataset.py\n",
        "# Before run get data download from this ...\n",
        "# https://archive.ics.uci.edu/ml/machine-learning-databases/iris/\n",
        "import pandas as pd\n",
        "import os\n",
        "import numpy as np\n",
        "\n",
        "\n",
        "def load(path='./dataset/iris.csv', split_train_test=None):\n",
        "    if os.path.isfile(path):\n",
        "      iris = pd.read_csv(path)\n",
        "    \n",
        "    else:\n",
        "        url = 'https://archive.ics.uci.edu/ml/machine-learning-' + 'databases/iris/iris.data'\n",
        "        iris = pd.read_csv(url, header=None)\n",
        "        iris.to_csv(path, index=False)\n",
        "    X = iris.iloc[:, :4].values\n",
        "    Y = iris.iloc[:, -1].values\n",
        "    if split_train_test:\n",
        "        classes = np.unique(Y)\n",
        "        itrain = np.empty((0,), dtype=np.int)\n",
        "        itest = np.empty((0,), dtype=np.int)\n",
        "        for i in classes:\n",
        "          idx = np.where(Y == i)[0]\n",
        "          split = int(len(idx) * split_train_test)\n",
        "          itrain = np.concatenate((itrain, idx[:split]))\n",
        "          itest = np.concatenate((itest, idx[split:]))\n",
        "        return X[itrain], Y[itrain], X[itest], Y[itest]\n",
        "    return X, Y\n",
        "\n",
        "if __name__ == '__main__':\n",
        "  irisInputs, irisTargets = load_iris_dataset()\n",
        "  print(irisInputs)\n",
        "  print(irisTargets)\n"
      ],
      "metadata": {
        "id": "tuKa338suD7b"
      },
      "execution_count": null,
      "outputs": []
    },
    {
      "cell_type": "code",
      "source": [
        "# file: kNN_iris.py \n",
        "from kNN import kNN\n",
        "import iris_dataset\n",
        "import matplotlib.pyplot as plt\n",
        "import numpy as np\n",
        "\n",
        "def plotdata(Xtrain, Ytrain, Xtest=[], Ytest=[], Ztest=[]):\n",
        "    color = {'Iris-setosa': 'b',\n",
        "             'Iris-versicolor': 'g',\n",
        "             'Iris-virginica': 'r', }\n",
        "    for i in range(len(Xtrain)):\n",
        "      plt.plot(Xtrain[i][0], Xtrain[i][1], 'x', c=color[Ytrain[i]], mfc='none')\n",
        "    for i in range(len(Xtest)):\n",
        "      plt.plot(Xtest[i][0], Xtest[i][1], '.', c='none', mfc=color[Ytest[i]])\n",
        "    for i in range(len(Ztest)):\n",
        "      plt.plot(Xtest[i][0], Xtest[i][1], 'o', c=color[Ztest[i]], mfc='none')\n",
        "\n",
        "if __name__ == '__main__':\n",
        "  Xtrain, Ytrain, Xtest, Ytest = iris_dataset.load(split_train_test=0.5)\n",
        "\n",
        "  plt.figure(1)\n",
        "  rate = []\n",
        "  K = range(1, len(Xtrain)+1)\n",
        "  for k in K:\n",
        "    Ztest = kNN(Xtrain, Ytrain, Xtest, k)\n",
        "    plotdata(Xtrain, Ytrain, Xtest, Ytest, Ztest)\n",
        "    plt.title('k = ' + str(k))\n",
        "    plt.draw()\n",
        "    plt.pause(0.001)\n",
        "    plt.cla()\n",
        "    rate.append(np.sum(Ztest == Ytest) / len(Ytest) * 100)\n",
        "  \n",
        "  plt.figure(2)\n",
        "  plt.plot(K,rate)\n",
        "  plt.axis([0,80,30,100])\n",
        "  plt.xlabel('k')\n",
        "  plt.ylabel('Accuracy rate (%)')\n",
        "  plt.grid(True)\n",
        "  plt.show()\n",
        "  print(rate)\n",
        "\n",
        "  plt.figure(3)\n",
        "  k = rate.index(max(rate)) + 1\n",
        "  Ztest = kNN(Xtrain, Ytrain, Xtest, k)\n",
        "  plotdata(Xtrain, Ytrain, Xtest, Ytest, Ztest)\n",
        "  plt.title('k = ' + str(k))\n",
        "  plt.show()"
      ],
      "metadata": {
        "id": "170jL3HKpxcD"
      },
      "execution_count": null,
      "outputs": []
    },
    {
      "cell_type": "code",
      "source": [
        "# kNN GUI by Thidarat mata: https://github.com/Thidaratmatha05/Py_GUI\n",
        "\n",
        "# Workshop 3\n",
        "import seaborn as sns\n",
        "import matplotlib.pyplot as plt\n",
        "\n",
        "df = sns.load_dataset('iris') # Load data form Internet\n",
        "df.head() # Show data for example 5 rows\n",
        "df.isnull().sum()\n",
        "\n",
        "# sns.scatterplot('sepal_length', 'sepal_width',data=df, hue='species') # point plot multi colors\n",
        "# sns.scatterplot('petal_length', 'petal_width',data=df, hue='species')\n",
        "# columns = ['sepal_length','sepal_width','petal_length','species']\n",
        "# sns.pairplot(df[columns], hue='species', height=2.0)\n",
        "# plt.show()\n",
        "\n",
        "# Workshop 4\n",
        "X = df.drop('species', axis=1)\n",
        "feature_cols = ['sepal_length','sepal_width','petal_length','petal_width']\n",
        "X = df[feature_cols]\n",
        "X.head()\n",
        "\n",
        "y = df.species\n",
        "y.head()\n",
        "X.shape\n",
        "y.shape"
      ],
      "metadata": {
        "colab": {
          "base_uri": "https://localhost:8080/"
        },
        "id": "UJIM1tIUVeM0",
        "outputId": "206df81f-52a1-4d58-8c78-922c5d3c0a8c"
      },
      "execution_count": null,
      "outputs": [
        {
          "output_type": "execute_result",
          "data": {
            "text/plain": [
              "sepal_length    0\n",
              "sepal_width     0\n",
              "petal_length    0\n",
              "petal_width     0\n",
              "species         0\n",
              "dtype: int64"
            ]
          },
          "metadata": {},
          "execution_count": 63
        }
      ]
    },
    {
      "cell_type": "code",
      "source": [
        "# Workshop 5\n",
        "from sklearn.model_selection import cross_val_score\n",
        "from sklearn.naive_bayes import GaussianNB\n",
        "\n",
        "model = GaussianNB()\n",
        "\n",
        "cvs = cross_val_score(model, X, y, cv=10) # sub to 10 cell (k=10)\n",
        "print(\"cross val scores {}\".format(cvs))\n",
        "print(\"mean (%) = {:.3f}\".format(cvs.mean() *100 ))"
      ],
      "metadata": {
        "id": "nF4W98fxdhXr",
        "colab": {
          "base_uri": "https://localhost:8080/"
        },
        "outputId": "bf4fc6cc-d334-423d-a640-d0c7b9d09407"
      },
      "execution_count": null,
      "outputs": [
        {
          "output_type": "stream",
          "name": "stdout",
          "text": [
            "cross val scores [0.93333333 0.93333333 1.         0.93333333 0.93333333 0.93333333\n",
            " 0.86666667 1.         1.         1.        ]\n",
            "mean (%) = 95.333\n"
          ]
        }
      ]
    },
    {
      "cell_type": "code",
      "source": [
        "# Workshop 6\n",
        "from sklearn.model_selection import train_test_split\n",
        "from sklearn.metrics import classification_report\n",
        "from sklearn.metrics import confusion_matrix\n",
        "from sklearn.metrics import accuracy_score\n",
        "import numpy as np\n",
        "import pandas as pd\n",
        "\n",
        "X_train,X_test,y_train,y_test = train_test_split(X, y, test_size=0.3)\n",
        "\n",
        "(label, count) = np.unique(y_test, return_counts=True)\n",
        "freq = np.asarray((label, count)).T\n",
        "# print(freq)\n",
        "\n",
        "model = GaussianNB()\n",
        "\n",
        "model.fit(X_train, y_train)\n",
        "y_pred = model.predict(X_test)\n",
        "\n",
        "# print('\\n Accuracy Score: {:.4f}'.format(accuracy_score(y_test, y_pred)))\n",
        "# print(classification_report(y_test, y_pred))\n",
        "# cm = confusion_matrix(y_test, y_pred)\n",
        "# print(cm)\n",
        "\n",
        "y_test[(y_test == y_pred)].count() # นับจำนวนที่ทำนายถูกต้อง\n",
        "dy = pd.DataFrame()\n",
        "dy['y_test'] = y_test\n",
        "dy['y_pred'] = y_pred\n",
        "dy['result'] = y_test == y_pred\n",
        "\n",
        "# print(y_test[dy.result == True].count()) # นับจำนวนที่ทำนายถูก\n",
        "# dy[dy.result == False]\n",
        "\n",
        "# Workshop 7\n",
        "X_input = np.array([[4.7,3.6,2.0,0.8],\n",
        "                    [6.5,2.5,4.8,1.4]])\n",
        "\n",
        "# model.fit(X, y)\n",
        "# print(model.predict(X_input))\n",
        "\n",
        "# print(y.unique())\n",
        "# print(model.predict_proba(X_input).round(8))\n",
        "\n",
        "\n",
        "# Workshop 10\n",
        "from sklearn.neighbors import KNeighborsClassifier \n",
        "from sklearn.model_selection import cross_val_score\n",
        "\n",
        "model = KNeighborsClassifier(n_neighbors=3)\n",
        "cvs = cross_val_score(model, X, y, cv=10) # no need to use model.fit\n",
        "print('\\n cross val scores {}'.format(cvs.round(3)))\n",
        "print('mean (%) = {:.3f}'.format(cvs.mean() *100))\n",
        "\n",
        "model.fit(X, y)\n",
        "print(model.predict(X_input))"
      ],
      "metadata": {
        "colab": {
          "base_uri": "https://localhost:8080/"
        },
        "id": "1Mesy0fhwq6H",
        "outputId": "ea80caff-fe80-4a41-892c-5eab511dd133"
      },
      "execution_count": null,
      "outputs": [
        {
          "output_type": "stream",
          "name": "stdout",
          "text": [
            "\n",
            " cross val scores [1.    0.933 1.    0.933 0.867 1.    0.933 1.    1.    1.   ]\n",
            "mean (%) = 96.667\n",
            "['setosa' 'versicolor']\n"
          ]
        },
        {
          "output_type": "stream",
          "name": "stderr",
          "text": [
            "/usr/local/lib/python3.9/dist-packages/sklearn/base.py:439: UserWarning: X does not have valid feature names, but KNeighborsClassifier was fitted with feature names\n",
            "  warnings.warn(\n"
          ]
        }
      ]
    },
    {
      "cell_type": "code",
      "source": [],
      "metadata": {
        "id": "x7_yQAJyIlxR"
      },
      "execution_count": null,
      "outputs": []
    },
    {
      "cell_type": "code",
      "source": [
        "import numpy as np\n",
        "\n",
        "# Project: Sneaker for you\n",
        "# Europe Sneaker Size\n",
        "# https://www.zappos.com/c/shoe-size-conversion\n",
        "\n",
        "# Dataset's Men\n",
        "HeightM = [120,130,140,150,160,170,180,190,200,210,220] # 11 numbers\n",
        "WeightM = [40,50,60,70,80,90,100,110,120,130,140] # 11 numbers\n",
        "SizeM = [39,40,41,42,43,44,45,46,47,48,49] # 11 numbers\n",
        "\n",
        "# Dataset's Women\n",
        "HeightW = [100,110,120,130,140,150,160,170,180,190,200] # 11 numbers\n",
        "WeightW = [40,50,60,70,80,90,100,110,120,130] # 10 numbers\n",
        "SizeW = [35,36,37,38,39,40,41,42,43,44] # 10 numbers\n",
        "\n",
        "data = [1,2,3,4,5,6,7,8,9]\n",
        "num1 = 175\n",
        "dist=[]\n",
        "for n in HeightM:\n",
        "  # d = np.absolute(num1-n)\n",
        "  d = np.sqrt((num1-n)**2)\n",
        "  dist.append(d)\n",
        "\n",
        "print(np.amin(dist))\n",
        "\n",
        "# ต้องการรู้ตำแหน่งข้อมูลที่ใกล้มากที่สุด\n",
        "idx = np.where(dist==np.amin(dist))\n",
        "print(idx[0])"
      ],
      "metadata": {
        "id": "xTWaKXRZx9TI",
        "colab": {
          "base_uri": "https://localhost:8080/"
        },
        "outputId": "03bd06b9-e771-4607-fcfd-8893b2c6038c"
      },
      "execution_count": null,
      "outputs": [
        {
          "output_type": "stream",
          "name": "stdout",
          "text": [
            "5.0\n",
            "[5 6]\n"
          ]
        }
      ]
    },
    {
      "cell_type": "code",
      "source": [
        "# https://youtu.be/DgAcnKeM_LM\n",
        "# https://youtu.be/6e2enYJUM4M\n",
        "import numpy as np\n",
        "def kNN(todo):\n",
        "  # [Height, Weight, Size, Gender]\n",
        "  x = np.array([ [120,40,39],[130,50,40],[140,60,41],[150,70,42],[160,80,43],\n",
        "                [170,90,44],[180,100,45],[190,110,46],[200,120,47],[210,130,48] ])\n",
        "  y = np.array( ['Women','Women','Women','Women','Women',\n",
        "                 'Men','Men','Men','Men','Men'])\n",
        "  Point = np.array(todo)\n",
        "  Distance = np.zeros(len(y))\n",
        "  for i,dataX in enumerate(x):\n",
        "    Distance[i] = np.sqrt(np.sum((Point-dataX)**2))\n",
        "\n",
        "  minDistance = np.min(Distance) # ส่งค่าน้อยที่สุด\n",
        "  indexMin = np.argmin(Distance) # ส่งค่ากลับคืนเป็นลำดับ\n",
        "  predictResult = y[indexMin]\n",
        "  return minDistance, indexMin, predictResult\n",
        "\n",
        "def kNN02(todo2):\n",
        "  from sklearn.neighbors import KNeighborsClassifier\n",
        "  from sklearn.model_selection import train_test_split\n",
        "  from sklearn.metrics import classification_report, confusion_matrix\n",
        "  import pandas as pd\n",
        "\n",
        "  # Define value for get data\n",
        "  # ตัวแปรรับค่า K, Height, Weight, Size\n",
        " \n",
        "  fileDataset = 'Dataset_01.csv'\n",
        "  data = pd.read_csv(fileDataset)\n",
        "  data.head(10)\n",
        "\n",
        "  x = data[['Height', 'Weight', 'Size']]\n",
        "  y = data['Gender']\n",
        "\n",
        "  # Set data between train and test\n",
        "  x_train, x_test, y_train, y_test = train_test_split(x, y, train_size=0.7, random_state=10)\n",
        "  # print(x_test.count())\n",
        "\n",
        "  # Define K value, Set model between train and test\n",
        "  kNN_model = KNeighborsClassifier(n_neighbors=Neighbors_input)\n",
        "  kNN_model = kNN_model.fit(x_train, y_train)\n",
        "  kNNScore = kNN_model.score(x_test, y_test)\n",
        "  # print(kNNScore)\n",
        "\n",
        "  # Input data and Show Output\n",
        "  todo2 = [ [Height_input,Weight_input,Size_input]]\n",
        "  Result_Output = kNN_model.predict(todo2)\n",
        "  print(Result_Output)\n",
        "\n",
        "  return Height_input,Weight_input,Size_input,Neighbors_input\n",
        "\n",
        "todo2 = [150,50,40,5]\n",
        "Result_Output = kNN02(todo2)\n",
        "print(Result_Output)\n",
        "\n",
        "# todo = [160,50,39]\n",
        "# result = kNN(todo)\n",
        "# print(result)"
      ],
      "metadata": {
        "colab": {
          "base_uri": "https://localhost:8080/"
        },
        "id": "8GcZp6JCv0xm",
        "outputId": "d19d5001-0395-48c0-c457-a50abcf33085"
      },
      "execution_count": null,
      "outputs": [
        {
          "output_type": "stream",
          "name": "stdout",
          "text": [
            "['Women']\n",
            "(0, 0, 0, 5)\n"
          ]
        },
        {
          "output_type": "stream",
          "name": "stderr",
          "text": [
            "/usr/local/lib/python3.9/dist-packages/sklearn/base.py:439: UserWarning: X does not have valid feature names, but KNeighborsClassifier was fitted with feature names\n",
            "  warnings.warn(\n"
          ]
        }
      ]
    },
    {
      "cell_type": "code",
      "source": [
        "from sklearn.neighbors import KNeighborsClassifier\n",
        "from sklearn.model_selection import train_test_split\n",
        "from sklearn.metrics import classification_report, confusion_matrix\n",
        "import pandas as pd\n",
        "\n",
        "fileDataset = 'Dataset_01.csv'\n",
        "# link = 'https://github.com/Kawin101/kawin101.github.io/blob/main/Dataset_01.csv'\n",
        "data = pd.read_csv(fileDataset)\n",
        "# data.info()\n",
        "# data.describe()\n",
        "# data.head(10)\n",
        "\n",
        "# print(data.Height.unique())\n",
        "# print(data.Weight.unique())\n",
        "# print(data.Size.unique())\n",
        "\n",
        "data['Gender'] = data.Gender.replace(['Women','Men'],[0,1])\n",
        "data.head(10)\n",
        "\n",
        "x = data[['Height', 'Weight', 'Size']]\n",
        "y = data['Gender']\n",
        "\n",
        "# Set data between train and test\n",
        "x_train, x_test, y_train, y_test = train_test_split(x, y, train_size=0.7, random_state=10)\n",
        "# print(x_test.count())\n",
        "\n",
        "# Define K value, Set model between train and test\n",
        "kNN_model = KNeighborsClassifier(n_neighbors=4)\n",
        "kNN_model = kNN_model.fit(x_train, y_train)\n",
        "kNNScore = kNN_model.score(x_test, y_test)\n",
        "# print(kNNScore)\n",
        "\n",
        "# Input data and Show Output\n",
        "StartkNN = [ [190,50,45]]\n",
        "print(kNN_model.predict(StartkNN))"
      ],
      "metadata": {
        "colab": {
          "base_uri": "https://localhost:8080/"
        },
        "id": "p40xLNxcg-bi",
        "outputId": "2a104d86-a3e8-4718-9696-5262431b9480"
      },
      "execution_count": null,
      "outputs": [
        {
          "output_type": "stream",
          "name": "stdout",
          "text": [
            "[0]\n"
          ]
        },
        {
          "output_type": "stream",
          "name": "stderr",
          "text": [
            "/usr/local/lib/python3.9/dist-packages/sklearn/base.py:439: UserWarning: X does not have valid feature names, but KNeighborsClassifier was fitted with feature names\n",
            "  warnings.warn(\n"
          ]
        }
      ]
    },
    {
      "cell_type": "code",
      "source": [
        "from sklearn.neighbors import KNeighborsClassifier\n",
        "from sklearn.model_selection import train_test_split\n",
        "from sklearn.metrics import classification_report, confusion_matrix\n",
        "import pandas as pd\n",
        "\n",
        "# Define value for get data\n",
        "# ตัวแปรรับค่า K, Height, Weight, Size\n",
        "Neighbors_input = 5\n",
        "Height_input = 180\n",
        "Weight_input = 80\n",
        "Size_input = 45\n",
        "\n",
        "fileDataset = 'Dataset_01.csv'\n",
        "data = pd.read_csv(fileDataset)\n",
        "\n",
        "data.head(10)\n",
        "\n",
        "x = data[['Height', 'Weight', 'Size']]\n",
        "y = data['Gender']\n",
        "\n",
        "# Set data between train and test\n",
        "x_train, x_test, y_train, y_test = train_test_split(x, y, train_size=0.7, random_state=10)\n",
        "# print(x_test.count())\n",
        "\n",
        "# Define K value, Set model between train and test\n",
        "kNN_model = KNeighborsClassifier(n_neighbors=Neighbors_input)\n",
        "kNN_model = kNN_model.fit(x_train, y_train)\n",
        "kNNScore = kNN_model.score(x_test, y_test)\n",
        "# print(kNNScore)\n",
        "\n",
        "# Input data and Show Output\n",
        "StartkNN = [ [Height_input,Weight_input,Size_input]]\n",
        "Result_Output = kNN_model.predict(StartkNN)\n",
        "print(Result_Output)"
      ],
      "metadata": {
        "colab": {
          "base_uri": "https://localhost:8080/"
        },
        "id": "7sz-lamH9HoG",
        "outputId": "bed495b5-3601-4d5a-ef84-5d3b279ae23e"
      },
      "execution_count": null,
      "outputs": [
        {
          "output_type": "stream",
          "name": "stdout",
          "text": [
            "['Men']\n"
          ]
        },
        {
          "output_type": "stream",
          "name": "stderr",
          "text": [
            "/usr/local/lib/python3.9/dist-packages/sklearn/base.py:439: UserWarning: X does not have valid feature names, but KNeighborsClassifier was fitted with feature names\n",
            "  warnings.warn(\n"
          ]
        }
      ]
    }
  ]
}