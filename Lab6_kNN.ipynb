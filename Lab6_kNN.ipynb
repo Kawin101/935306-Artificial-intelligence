{
  "nbformat": 4,
  "nbformat_minor": 0,
  "metadata": {
    "colab": {
      "provenance": [],
      "include_colab_link": true
    },
    "kernelspec": {
      "name": "python3",
      "display_name": "Python 3"
    },
    "language_info": {
      "name": "python"
    }
  },
  "cells": [
    {
      "cell_type": "markdown",
      "metadata": {
        "id": "view-in-github",
        "colab_type": "text"
      },
      "source": [
        "<a href=\"https://colab.research.google.com/github/Kawin101/935306-Artificial-intelligence/blob/main/Lab6_kNN.ipynb\" target=\"_parent\"><img src=\"https://colab.research.google.com/assets/colab-badge.svg\" alt=\"Open In Colab\"/></a>"
      ]
    },
    {
      "cell_type": "markdown",
      "source": [
        "## **1. k-Nearest Neighbor**"
      ],
      "metadata": {
        "id": "CmBfTx5WxZun"
      }
    },
    {
      "cell_type": "markdown",
      "source": [
        "**1. Dataset**\n",
        "\n",
        "0 = Dog\n",
        "1 = Cat"
      ],
      "metadata": {
        "id": "pw6gGY1Lx0R9"
      }
    },
    {
      "cell_type": "code",
      "source": [
        "dataset = [[2.7810836,2.550537003,0],\n",
        "\t[1.465489372,2.362125076,0],\n",
        "\t[3.396561688,4.400293529,0],\n",
        "\t[1.38807019,1.850220317,0],\n",
        "\t[3.06407232,3.005305973,0],\n",
        "\t[7.627531214,2.759262235,1],\n",
        "\t[5.332441248,2.088626775,1],\n",
        "\t[6.922596716,1.77106367,1],\n",
        "\t[8.675418651,-0.242068655,1],"
      ],
      "metadata": {
        "id": "jyluxbb2x2z0"
      },
      "execution_count": null,
      "outputs": []
    },
    {
      "cell_type": "markdown",
      "source": [
        "**2. Euclidean Distance** \n",
        "\n",
        "![image.png](data:image/png;base64,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)\n",
        "\n",
        "**= sqrt(sum i to n (q_i – p_i)^2)**"
      ],
      "metadata": {
        "id": "RddOqLNexp7O"
      }
    },
    {
      "cell_type": "code",
      "source": [
        "def euclidean_distance(row1, row2):\n",
        "\tdistance = 0.0\n",
        "\tfor i in range(len(row1)-1):\n",
        "\t\tdistance += (row1[i] - row2[i])**2\n",
        "\treturn sqrt(distance)"
      ],
      "metadata": {
        "id": "R_okd6PZx9Jv"
      },
      "execution_count": null,
      "outputs": []
    },
    {
      "cell_type": "markdown",
      "source": [
        "**3. Measure distance**"
      ],
      "metadata": {
        "id": "T_dqxFFx0Uhs"
      }
    },
    {
      "cell_type": "code",
      "source": [
        "from math import sqrt\n",
        " \n",
        "# calculate the Euclidean distance between two vectors\n",
        "def euclidean_distance(row1, row2):\n",
        "\tdistance = 0.0\n",
        "\tfor i in range(len(row1)-1):\n",
        "\t\tdistance += (row1[i] - row2[i])**2\n",
        "\treturn sqrt(distance)\n",
        " \n",
        "# Test distance function\n",
        "dataset = [[50000],\n",
        "\t[12000],\n",
        "\t[3.396561688],\n",
        "\t[1.38807019],\n",
        "\t[3.06407232],\n",
        "\t[7.627531214],\n",
        "\t[5.332441248],\n",
        "\t[6.922596716],\n",
        "\t[8.675418651],\n",
        "\t[7.673756466]]\n",
        "row0 = dataset[0]\n",
        "for row in dataset:\n",
        "\tdistance = euclidean_distance(row0, row)\n",
        "\tprint(distance)"
      ],
      "metadata": {
        "colab": {
          "base_uri": "https://localhost:8080/"
        },
        "id": "pjx4j_fLxgr-",
        "outputId": "61689961-f175-40a4-cc4d-5dede12c5e77"
      },
      "execution_count": null,
      "outputs": [
        {
          "output_type": "stream",
          "name": "stdout",
          "text": [
            "0.0\n",
            "1.3290173915275787\n",
            "1.9494646655653247\n",
            "1.5591439385540549\n",
            "0.5356280721938492\n",
            "4.850940186986411\n",
            "2.592833759950511\n",
            "4.214227042632867\n",
            "6.522409988228337\n",
            "4.985585382449795\n"
          ]
        }
      ]
    },
    {
      "cell_type": "markdown",
      "source": [
        "**4. Find nearest neighbor**"
      ],
      "metadata": {
        "id": "0P47jA7E0Pbk"
      }
    },
    {
      "cell_type": "code",
      "source": [
        "# Locate the most similar neighbors\n",
        "def get_neighbors(train, test_row, num_neighbors):\n",
        "\tdistances = list()\n",
        "\tfor train_row in train:\n",
        "\t\tdist = euclidean_distance(test_row, train_row)\n",
        "\t\tdistances.append((train_row, dist))\n",
        "\tdistances.sort(key=lambda tup: tup[1])\n",
        "\tneighbors = list()\n",
        "\tfor i in range(num_neighbors):\n",
        "\t\tneighbors.append(distances[i][0])\n",
        "\treturn neighbors"
      ],
      "metadata": {
        "id": "VdrmZd8Z0I0n"
      },
      "execution_count": null,
      "outputs": []
    },
    {
      "cell_type": "markdown",
      "source": [
        "**5. Show 3 nearest neighbors**"
      ],
      "metadata": {
        "id": "cXhbMFmr1C9u"
      }
    },
    {
      "cell_type": "code",
      "source": [
        "neighbors = get_neighbors(dataset, dataset[0], 3)\n",
        "for neighbor in neighbors:\n",
        "\tprint(neighbor)"
      ],
      "metadata": {
        "id": "YIr7tXhr0Nq-"
      },
      "execution_count": null,
      "outputs": []
    },
    {
      "cell_type": "markdown",
      "source": [
        "# **2.Implementing KNN Algorithm with Scikit-Learn**"
      ],
      "metadata": {
        "id": "VvqImjAX1YGG"
      }
    },
    {
      "cell_type": "code",
      "source": [
        "import numpy as np\n",
        "import matplotlib.pyplot as plt\n",
        "import pandas as pd"
      ],
      "metadata": {
        "id": "mf6WpO311joM"
      },
      "execution_count": null,
      "outputs": []
    },
    {
      "cell_type": "markdown",
      "source": [
        "**Importing the Dataset**"
      ],
      "metadata": {
        "id": "n3Pj5s1Q16ws"
      }
    },
    {
      "cell_type": "code",
      "source": [
        "url = \"https://archive.ics.uci.edu/ml/machine-learning-databases/iris/iris.data\"\n",
        "\n",
        "# Assign colum names to the dataset\n",
        "names = ['sepal-length', 'sepal-width', 'petal-length', 'petal-width', 'Class']\n",
        "\n",
        "# Read dataset to pandas dataframe\n",
        "dataset = pd.read_csv(url, names=names)"
      ],
      "metadata": {
        "id": "AACa9FHy1lbd"
      },
      "execution_count": null,
      "outputs": []
    },
    {
      "cell_type": "code",
      "source": [
        "dataset.head()"
      ],
      "metadata": {
        "colab": {
          "base_uri": "https://localhost:8080/",
          "height": 206
        },
        "id": "dJEYrEit1qok",
        "outputId": "f2c9bf6d-4ecb-45ae-d8fa-5d002c73ceb1"
      },
      "execution_count": null,
      "outputs": [
        {
          "output_type": "execute_result",
          "data": {
            "text/html": [
              "<div>\n",
              "<style scoped>\n",
              "    .dataframe tbody tr th:only-of-type {\n",
              "        vertical-align: middle;\n",
              "    }\n",
              "\n",
              "    .dataframe tbody tr th {\n",
              "        vertical-align: top;\n",
              "    }\n",
              "\n",
              "    .dataframe thead th {\n",
              "        text-align: right;\n",
              "    }\n",
              "</style>\n",
              "<table border=\"1\" class=\"dataframe\">\n",
              "  <thead>\n",
              "    <tr style=\"text-align: right;\">\n",
              "      <th></th>\n",
              "      <th>sepal-length</th>\n",
              "      <th>sepal-width</th>\n",
              "      <th>petal-length</th>\n",
              "      <th>petal-width</th>\n",
              "      <th>Class</th>\n",
              "    </tr>\n",
              "  </thead>\n",
              "  <tbody>\n",
              "    <tr>\n",
              "      <th>0</th>\n",
              "      <td>5.1</td>\n",
              "      <td>3.5</td>\n",
              "      <td>1.4</td>\n",
              "      <td>0.2</td>\n",
              "      <td>Iris-setosa</td>\n",
              "    </tr>\n",
              "    <tr>\n",
              "      <th>1</th>\n",
              "      <td>4.9</td>\n",
              "      <td>3.0</td>\n",
              "      <td>1.4</td>\n",
              "      <td>0.2</td>\n",
              "      <td>Iris-setosa</td>\n",
              "    </tr>\n",
              "    <tr>\n",
              "      <th>2</th>\n",
              "      <td>4.7</td>\n",
              "      <td>3.2</td>\n",
              "      <td>1.3</td>\n",
              "      <td>0.2</td>\n",
              "      <td>Iris-setosa</td>\n",
              "    </tr>\n",
              "    <tr>\n",
              "      <th>3</th>\n",
              "      <td>4.6</td>\n",
              "      <td>3.1</td>\n",
              "      <td>1.5</td>\n",
              "      <td>0.2</td>\n",
              "      <td>Iris-setosa</td>\n",
              "    </tr>\n",
              "    <tr>\n",
              "      <th>4</th>\n",
              "      <td>5.0</td>\n",
              "      <td>3.6</td>\n",
              "      <td>1.4</td>\n",
              "      <td>0.2</td>\n",
              "      <td>Iris-setosa</td>\n",
              "    </tr>\n",
              "  </tbody>\n",
              "</table>\n",
              "</div>"
            ],
            "text/plain": [
              "   sepal-length  sepal-width  petal-length  petal-width        Class\n",
              "0           5.1          3.5           1.4          0.2  Iris-setosa\n",
              "1           4.9          3.0           1.4          0.2  Iris-setosa\n",
              "2           4.7          3.2           1.3          0.2  Iris-setosa\n",
              "3           4.6          3.1           1.5          0.2  Iris-setosa\n",
              "4           5.0          3.6           1.4          0.2  Iris-setosa"
            ]
          },
          "metadata": {},
          "execution_count": 4
        }
      ]
    },
    {
      "cell_type": "markdown",
      "source": [
        "**Preprocessing**"
      ],
      "metadata": {
        "id": "O-0OL1uJ19rd"
      }
    },
    {
      "cell_type": "code",
      "source": [
        "X = dataset.iloc[:, :-1].values\n",
        "y = dataset.iloc[:, 4].values"
      ],
      "metadata": {
        "id": "DnaWYNwP1y_1"
      },
      "execution_count": null,
      "outputs": []
    },
    {
      "cell_type": "markdown",
      "source": [
        "**Train Test Split**"
      ],
      "metadata": {
        "id": "c95yVzRk2DR1"
      }
    },
    {
      "cell_type": "code",
      "source": [
        "from sklearn.model_selection import train_test_split\n",
        "X_train, X_test, y_train, y_test = train_test_split(X, y, test_size=0.20)"
      ],
      "metadata": {
        "id": "jSjVwdlw12b9"
      },
      "execution_count": null,
      "outputs": []
    },
    {
      "cell_type": "markdown",
      "source": [
        "**Feature Scaling**"
      ],
      "metadata": {
        "id": "_HRgOdfe2LQU"
      }
    },
    {
      "cell_type": "code",
      "source": [
        "from sklearn.preprocessing import StandardScaler\n",
        "scaler = StandardScaler()\n",
        "scaler.fit(X_train)\n",
        "\n",
        "X_train = scaler.transform(X_train)\n",
        "X_test = scaler.transform(X_test)"
      ],
      "metadata": {
        "id": "_ijXHJpo2MJ8"
      },
      "execution_count": null,
      "outputs": []
    },
    {
      "cell_type": "markdown",
      "source": [
        "**Training**"
      ],
      "metadata": {
        "id": "L-td8dDj2VRV"
      }
    },
    {
      "cell_type": "code",
      "source": [
        "from sklearn.neighbors import KNeighborsClassifier\n",
        "classifier = KNeighborsClassifier(n_neighbors=5)\n",
        "classifier.fit(X_train, y_train)"
      ],
      "metadata": {
        "colab": {
          "base_uri": "https://localhost:8080/"
        },
        "id": "LOLG61ym2VnV",
        "outputId": "e079ff29-a8db-46f4-8e38-0eddde94f9be"
      },
      "execution_count": null,
      "outputs": [
        {
          "output_type": "execute_result",
          "data": {
            "text/plain": [
              "KNeighborsClassifier()"
            ]
          },
          "metadata": {},
          "execution_count": 8
        }
      ]
    },
    {
      "cell_type": "markdown",
      "source": [
        "**Predict**"
      ],
      "metadata": {
        "id": "BE2EanQT2cOU"
      }
    },
    {
      "cell_type": "code",
      "source": [
        "y_pred = classifier.predict(X_test)"
      ],
      "metadata": {
        "id": "LoLkC6-G2d7N"
      },
      "execution_count": null,
      "outputs": []
    },
    {
      "cell_type": "markdown",
      "source": [
        "**Evaluation**"
      ],
      "metadata": {
        "id": "t2gPT8VU2gnF"
      }
    },
    {
      "cell_type": "code",
      "source": [
        "from sklearn.metrics import classification_report, confusion_matrix\n",
        "print(confusion_matrix(y_test, y_pred))\n",
        "print(classification_report(y_test, y_pred))"
      ],
      "metadata": {
        "colab": {
          "base_uri": "https://localhost:8080/"
        },
        "id": "-jrNRKSk2i1l",
        "outputId": "0051f920-f387-495b-8923-d111a3b3d83b"
      },
      "execution_count": null,
      "outputs": [
        {
          "output_type": "stream",
          "name": "stdout",
          "text": [
            "[[ 9  0  0]\n",
            " [ 0 11  2]\n",
            " [ 0  0  8]]\n",
            "                 precision    recall  f1-score   support\n",
            "\n",
            "    Iris-setosa       1.00      1.00      1.00         9\n",
            "Iris-versicolor       1.00      0.85      0.92        13\n",
            " Iris-virginica       0.80      1.00      0.89         8\n",
            "\n",
            "       accuracy                           0.93        30\n",
            "      macro avg       0.93      0.95      0.94        30\n",
            "   weighted avg       0.95      0.93      0.93        30\n",
            "\n"
          ]
        }
      ]
    }
  ]
}