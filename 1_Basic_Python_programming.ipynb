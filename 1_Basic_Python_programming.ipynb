{
  "nbformat": 4,
  "nbformat_minor": 0,
  "metadata": {
    "colab": {
      "provenance": [],
      "include_colab_link": true
    },
    "kernelspec": {
      "name": "python3",
      "display_name": "Python 3"
    },
    "language_info": {
      "name": "python"
    }
  },
  "cells": [
    {
      "cell_type": "markdown",
      "metadata": {
        "id": "view-in-github",
        "colab_type": "text"
      },
      "source": [
        "<a href=\"https://colab.research.google.com/github/Kawin101/935306-Artificial-intelligence/blob/main/1_Basic_Python_programming.ipynb\" target=\"_parent\"><img src=\"https://colab.research.google.com/assets/colab-badge.svg\" alt=\"Open In Colab\"/></a>"
      ]
    },
    {
      "cell_type": "markdown",
      "metadata": {
        "id": "zbl3Z7IH3y4g"
      },
      "source": [
        "# **** Basic python programming series ******\n",
        "## 1.Basic python programming\n",
        "## 2.Basic python for data science\n",
        "## 3.Basic python for image processing"
      ]
    },
    {
      "cell_type": "markdown",
      "metadata": {
        "id": "Z8Lkkr8s4tRE"
      },
      "source": [
        "# 1. Basic python programming\n",
        "*** ข้อมูลจาก BOTNOI computer vision training***"
      ]
    },
    {
      "cell_type": "markdown",
      "metadata": {
        "id": "Z_08DFPc82bw"
      },
      "source": [
        "**1.1 Programming concept**\n",
        "*   Starwar\n",
        "https://code.org/starwars\n",
        "*   Frozen\n",
        "https://studio.code.org/s/frozen/lessons/1/levels/1\n",
        "\n",
        "\n"
      ]
    },
    {
      "cell_type": "markdown",
      "metadata": {
        "id": "dOXDFFAHZ_vc"
      },
      "source": [
        "**1.2 Python programming**\n",
        "\n",
        "**หัวข้อ**\n",
        "- แสดงข้อความ\n",
        "- ตัวแปรและชนิดข้อมูล\n",
        "- การตั้งชื่อตัวแปร\n",
        "- การแปลงชนิดข้อมูล\n",
        "- การดำเนินทางคณิตศาสตร์\n",
        "- การเปรียบเทียบ\n",
        "- การทำซ้ำ\n",
        "- ฟังก์ชัน\n",
        "- แบบฝึกหัด"
      ]
    },
    {
      "cell_type": "markdown",
      "source": [
        "**1) แสดงข้อความ**"
      ],
      "metadata": {
        "id": "Pd00VSU-spJq"
      }
    },
    {
      "cell_type": "code",
      "metadata": {
        "id": "wt-yfy6B3iv3"
      },
      "source": [
        "print(\"hello world\")"
      ],
      "execution_count": null,
      "outputs": []
    },
    {
      "cell_type": "code",
      "metadata": {
        "id": "qDqysxwlLYJF"
      },
      "source": [
        "print(\"I love you\")"
      ],
      "execution_count": null,
      "outputs": []
    },
    {
      "cell_type": "markdown",
      "source": [
        "**2) ตัวแปรและชนิดข้อมูล**"
      ],
      "metadata": {
        "id": "EZDLwMahqosJ"
      }
    },
    {
      "cell_type": "code",
      "metadata": {
        "id": "p3jiQhNF5iqk"
      },
      "source": [
        "#string มี ' หรือ \" ปิดหัวท้าย\n",
        "'hello world'"
      ],
      "execution_count": null,
      "outputs": []
    },
    {
      "cell_type": "code",
      "metadata": {
        "id": "dlk9jEF-MLy7"
      },
      "source": [
        "\"I love you\""
      ],
      "execution_count": null,
      "outputs": []
    },
    {
      "cell_type": "code",
      "metadata": {
        "id": "Nw3pC9LL5rkJ",
        "colab": {
          "base_uri": "https://localhost:8080/"
        },
        "outputId": "82617359-a1d9-4a86-dc60-e3e01d3c8db6"
      },
      "source": [
        "#ตัวเลขไม่มี ' หรือ \" ปิดหัวท้าย\n",
        "12000"
      ],
      "execution_count": null,
      "outputs": [
        {
          "output_type": "execute_result",
          "data": {
            "text/plain": [
              "12000"
            ]
          },
          "metadata": {},
          "execution_count": 1
        }
      ]
    },
    {
      "cell_type": "code",
      "metadata": {
        "id": "HOabNCjSMatF"
      },
      "source": [
        "5000\n"
      ],
      "execution_count": null,
      "outputs": []
    },
    {
      "cell_type": "code",
      "metadata": {
        "id": "6gzdjoVxMd32",
        "colab": {
          "base_uri": "https://localhost:8080/",
          "height": 35
        },
        "outputId": "8d32fea9-4a02-4679-99e9-64a1b66e48bb"
      },
      "source": [
        "number = '5000'\n",
        "number"
      ],
      "execution_count": null,
      "outputs": [
        {
          "output_type": "execute_result",
          "data": {
            "application/vnd.google.colaboratory.intrinsic+json": {
              "type": "string"
            },
            "text/plain": [
              "'5000'"
            ]
          },
          "metadata": {},
          "execution_count": 2
        }
      ]
    },
    {
      "cell_type": "code",
      "metadata": {
        "id": "iFYsSiVK6QHs"
      },
      "source": [
        "a=[1,2,3,'world',5,6,7,8,'hello',10]\n",
        "a[8] +' '+ a[3]"
      ],
      "execution_count": null,
      "outputs": []
    },
    {
      "cell_type": "code",
      "metadata": {
        "id": "QS0xrtZf6Tpa"
      },
      "source": [
        "x = 2\n",
        "y = 1\n",
        "x - y"
      ],
      "execution_count": null,
      "outputs": []
    },
    {
      "cell_type": "code",
      "metadata": {
        "id": "reGiEqyX6W48"
      },
      "source": [
        "a = [1,2,3,4,5,6,7]\n",
        "a"
      ],
      "execution_count": null,
      "outputs": []
    },
    {
      "cell_type": "code",
      "metadata": {
        "id": "nocbH6Uy6Zzf"
      },
      "source": [
        "a[5]+a[1]"
      ],
      "execution_count": null,
      "outputs": []
    },
    {
      "cell_type": "code",
      "metadata": {
        "id": "P-ON1Cel6cTS"
      },
      "source": [
        "a = ['ชื่อ','เอ','ผม','ครับ','สวัสดี']"
      ],
      "execution_count": null,
      "outputs": []
    },
    {
      "cell_type": "code",
      "metadata": {
        "id": "WdhnOs8IZMcN"
      },
      "source": [
        "print(a[-1]+a[-0]+a[-3]+a[-4]+a[-2])"
      ],
      "execution_count": null,
      "outputs": []
    },
    {
      "cell_type": "code",
      "metadata": {
        "id": "ZNeiCC1X7UH0"
      },
      "source": [
        "a[-2]"
      ],
      "execution_count": null,
      "outputs": []
    },
    {
      "cell_type": "code",
      "metadata": {
        "id": "9Rvv8VTh7Wkb"
      },
      "source": [
        "print(a[4]+a[3]+a[2]+a[0]+a[1])"
      ],
      "execution_count": null,
      "outputs": []
    },
    {
      "cell_type": "code",
      "metadata": {
        "id": "obQbL9aNVu78"
      },
      "source": [
        "print(a[-1]+a[-5]+a[1]+a[-2]+a[2])"
      ],
      "execution_count": null,
      "outputs": []
    },
    {
      "cell_type": "markdown",
      "metadata": {
        "id": "7QzrGGAW8lL7"
      },
      "source": [
        "**3) การตั้งชื่อตัวแปร**\n",
        "- Number character sign \n",
        "- Dont start with number except \"_\"\n",
        "- Not keyword\n"
      ]
    },
    {
      "cell_type": "code",
      "source": [
        "Y2 = 5"
      ],
      "metadata": {
        "id": "-z_MpR6stJhD"
      },
      "execution_count": null,
      "outputs": []
    },
    {
      "cell_type": "code",
      "source": [
        "2Y = 6"
      ],
      "metadata": {
        "colab": {
          "base_uri": "https://localhost:8080/",
          "height": 130
        },
        "id": "dyt77kWoz2Ar",
        "outputId": "b9f36a95-70d5-44f7-e42c-ebf15a07acda"
      },
      "execution_count": null,
      "outputs": [
        {
          "output_type": "error",
          "ename": "SyntaxError",
          "evalue": "ignored",
          "traceback": [
            "\u001b[0;36m  File \u001b[0;32m\"<ipython-input-18-7f6ebf405ce9>\"\u001b[0;36m, line \u001b[0;32m1\u001b[0m\n\u001b[0;31m    2Y = 6\u001b[0m\n\u001b[0m     ^\u001b[0m\n\u001b[0;31mSyntaxError\u001b[0m\u001b[0;31m:\u001b[0m invalid syntax\n"
          ]
        }
      ]
    },
    {
      "cell_type": "code",
      "source": [
        "class = 6"
      ],
      "metadata": {
        "colab": {
          "base_uri": "https://localhost:8080/",
          "height": 130
        },
        "id": "U0cf0JYYz3eK",
        "outputId": "92302bb1-4673-4d4a-e6dd-0513f8ebbad9"
      },
      "execution_count": null,
      "outputs": [
        {
          "output_type": "error",
          "ename": "SyntaxError",
          "evalue": "ignored",
          "traceback": [
            "\u001b[0;36m  File \u001b[0;32m\"<ipython-input-19-9d07ef8f6a6c>\"\u001b[0;36m, line \u001b[0;32m1\u001b[0m\n\u001b[0;31m    class = 6\u001b[0m\n\u001b[0m          ^\u001b[0m\n\u001b[0;31mSyntaxError\u001b[0m\u001b[0;31m:\u001b[0m invalid syntax\n"
          ]
        }
      ]
    },
    {
      "cell_type": "markdown",
      "source": [
        "**4) การแปลงชนิดข้อมูล**"
      ],
      "metadata": {
        "id": "-m0wgmxJwByE"
      }
    },
    {
      "cell_type": "code",
      "source": [
        "a= 10\n",
        "b= 10.35\n",
        "c= \"20\"\n",
        "print(type(a))"
      ],
      "metadata": {
        "colab": {
          "base_uri": "https://localhost:8080/"
        },
        "id": "9JJOsjiywL4T",
        "outputId": "0dff2a29-c2b8-4f75-9ee6-6a7033989449"
      },
      "execution_count": null,
      "outputs": [
        {
          "output_type": "stream",
          "name": "stdout",
          "text": [
            "<class 'int'>\n"
          ]
        }
      ]
    },
    {
      "cell_type": "code",
      "source": [
        "result = a+b\n",
        "print(result)"
      ],
      "metadata": {
        "colab": {
          "base_uri": "https://localhost:8080/"
        },
        "id": "XFA-AqUUwcxr",
        "outputId": "1607a901-9b3a-4c0b-ff1d-64848094b114"
      },
      "execution_count": null,
      "outputs": [
        {
          "output_type": "stream",
          "name": "stdout",
          "text": [
            "20.35\n"
          ]
        }
      ]
    },
    {
      "cell_type": "code",
      "source": [
        "result = a+int(c)\n",
        "print(result)"
      ],
      "metadata": {
        "colab": {
          "base_uri": "https://localhost:8080/"
        },
        "id": "zmFccJU8wuWK",
        "outputId": "fad28ab5-f51d-4e04-ad96-d92296226376"
      },
      "execution_count": null,
      "outputs": [
        {
          "output_type": "stream",
          "name": "stdout",
          "text": [
            "30\n"
          ]
        }
      ]
    },
    {
      "cell_type": "code",
      "source": [
        "result = str(a)+c\n",
        "print(result)"
      ],
      "metadata": {
        "colab": {
          "base_uri": "https://localhost:8080/"
        },
        "id": "ikt_nN_nw6Ky",
        "outputId": "401a5f0f-917f-439a-f1a4-f5f1c9ae2ab8"
      },
      "execution_count": null,
      "outputs": [
        {
          "output_type": "stream",
          "name": "stdout",
          "text": [
            "1020\n"
          ]
        }
      ]
    },
    {
      "cell_type": "code",
      "source": [
        "result = a+b\n",
        "print(\"ผลลัพธ์ \"+ str(result))"
      ],
      "metadata": {
        "colab": {
          "base_uri": "https://localhost:8080/"
        },
        "id": "qG4El6pcxMi6",
        "outputId": "f81c05c8-01cb-45b1-b516-484bbaf53a13"
      },
      "execution_count": null,
      "outputs": [
        {
          "output_type": "stream",
          "name": "stdout",
          "text": [
            "ผลลัพธ์ 20.35\n"
          ]
        }
      ]
    },
    {
      "cell_type": "markdown",
      "source": [
        "**5) การดำเนินการทางคณิตศาสตร์**\n",
        "- บวก\n",
        "- ลบ\n",
        "- คูณ\n",
        "- หาร"
      ],
      "metadata": {
        "id": "39O80gdtxwnM"
      }
    },
    {
      "cell_type": "code",
      "source": [
        "a=10\n",
        "b=20\n",
        "result = a+b\n",
        "print(result)"
      ],
      "metadata": {
        "colab": {
          "base_uri": "https://localhost:8080/"
        },
        "id": "26UOj8WKyKdy",
        "outputId": "a7fb1e90-f062-4a0d-ba98-d38de3a9e3b5"
      },
      "execution_count": null,
      "outputs": [
        {
          "output_type": "stream",
          "name": "stdout",
          "text": [
            "30\n"
          ]
        }
      ]
    },
    {
      "cell_type": "code",
      "source": [
        "a=10\n",
        "b=20\n",
        "result = a-b\n",
        "print(result)"
      ],
      "metadata": {
        "colab": {
          "base_uri": "https://localhost:8080/"
        },
        "id": "i9YscfD30VX8",
        "outputId": "b0f61078-6fc7-45c3-b3f2-ca9674bde319"
      },
      "execution_count": null,
      "outputs": [
        {
          "output_type": "stream",
          "name": "stdout",
          "text": [
            "-10\n"
          ]
        }
      ]
    },
    {
      "cell_type": "code",
      "source": [
        "a=10\n",
        "b=20\n",
        "result = a*b\n",
        "print(result)"
      ],
      "metadata": {
        "colab": {
          "base_uri": "https://localhost:8080/"
        },
        "id": "Y0yz2SkF0XtD",
        "outputId": "ea96508d-3357-47ca-c3b4-2172427fbae3"
      },
      "execution_count": null,
      "outputs": [
        {
          "output_type": "stream",
          "name": "stdout",
          "text": [
            "100000000000000000000\n"
          ]
        }
      ]
    },
    {
      "cell_type": "code",
      "source": [
        "a=10\n",
        "b=20\n",
        "result = a/b\n",
        "print(result)"
      ],
      "metadata": {
        "colab": {
          "base_uri": "https://localhost:8080/"
        },
        "id": "rM6hkITT0c33",
        "outputId": "917fd5cb-79a8-47fb-c49b-6ddea89b6b37"
      },
      "execution_count": null,
      "outputs": [
        {
          "output_type": "stream",
          "name": "stdout",
          "text": [
            "0.5\n"
          ]
        }
      ]
    },
    {
      "cell_type": "markdown",
      "metadata": {
        "id": "BL6OezSN942m"
      },
      "source": [
        "**6) การเปรียบเทียบ**\n"
      ]
    },
    {
      "cell_type": "code",
      "metadata": {
        "id": "C7nquG_h8X_t"
      },
      "source": [
        "1>=2"
      ],
      "execution_count": null,
      "outputs": []
    },
    {
      "cell_type": "code",
      "metadata": {
        "id": "MW4OulxM897q"
      },
      "source": [
        "a=3\n",
        "a"
      ],
      "execution_count": null,
      "outputs": []
    },
    {
      "cell_type": "code",
      "metadata": {
        "id": "ksW-sn7x9Dlr"
      },
      "source": [
        "a==4"
      ],
      "execution_count": null,
      "outputs": []
    },
    {
      "cell_type": "code",
      "metadata": {
        "id": "n5a-lNGk9E7q"
      },
      "source": [
        "a!=4"
      ],
      "execution_count": null,
      "outputs": []
    },
    {
      "cell_type": "code",
      "metadata": {
        "id": "lrP297Fq9S30"
      },
      "source": [
        "a>5 and a < 5 # or and"
      ],
      "execution_count": null,
      "outputs": []
    },
    {
      "cell_type": "code",
      "metadata": {
        "id": "1-ipQOzL9UiD"
      },
      "source": [
        "a=['a','b','c']"
      ],
      "execution_count": null,
      "outputs": []
    },
    {
      "cell_type": "code",
      "metadata": {
        "id": "pi0MUeCP9YWj"
      },
      "source": [
        "'d' in a"
      ],
      "execution_count": null,
      "outputs": []
    },
    {
      "cell_type": "code",
      "metadata": {
        "id": "gmCSXC3jYYhd"
      },
      "source": [
        "b = ['ชื่อ','เอ','ผม','ครับ','สวัสดี']"
      ],
      "execution_count": null,
      "outputs": []
    },
    {
      "cell_type": "code",
      "metadata": {
        "id": "H77_L0doYbrR",
        "colab": {
          "base_uri": "https://localhost:8080/"
        },
        "outputId": "4ebcf63e-ebca-4020-c440-94bf020687e9"
      },
      "source": [
        "'สาม' in b"
      ],
      "execution_count": null,
      "outputs": [
        {
          "output_type": "execute_result",
          "data": {
            "text/plain": [
              "False"
            ]
          },
          "metadata": {},
          "execution_count": 27
        }
      ]
    },
    {
      "cell_type": "code",
      "metadata": {
        "id": "ye1TFJK09fCr"
      },
      "source": [
        "a='hi5'\n",
        "b='hi'\n",
        "a==b"
      ],
      "execution_count": null,
      "outputs": []
    },
    {
      "cell_type": "code",
      "metadata": {
        "id": "7CQIXmPe-Dau"
      },
      "source": [
        "def abc(score):\n",
        "  if score >= 80:\n",
        "    print('grade A')\n",
        "  elif score >= 70:\n",
        "    print('grade B')\n",
        "  elif score >=60:\n",
        "    print('grade C')\n",
        "  elif score >=50:\n",
        "    print('grade D')\n",
        "  else:\n",
        "    print('grade f')"
      ],
      "execution_count": null,
      "outputs": []
    },
    {
      "cell_type": "code",
      "metadata": {
        "id": "Fy9pOREu-U_i"
      },
      "source": [
        "abc(60)"
      ],
      "execution_count": null,
      "outputs": []
    },
    {
      "cell_type": "markdown",
      "metadata": {
        "id": "CrGhNpHR-0_V"
      },
      "source": [
        "**7) การทำซ้ำ**\n"
      ]
    },
    {
      "cell_type": "code",
      "metadata": {
        "id": "JpG6oAtq_Xx7"
      },
      "source": [
        "list(range(5))"
      ],
      "execution_count": null,
      "outputs": []
    },
    {
      "cell_type": "code",
      "metadata": {
        "id": "57390XYi_eLa"
      },
      "source": [
        "for j in list(range(5)):\n",
        "  print(j+1)"
      ],
      "execution_count": null,
      "outputs": []
    },
    {
      "cell_type": "code",
      "metadata": {
        "id": "NwbV8ju12rQG"
      },
      "source": [
        "for i in range(300):\n",
        "  print('i love you ')"
      ],
      "execution_count": null,
      "outputs": []
    },
    {
      "cell_type": "code",
      "metadata": {
        "id": "Kvuj6vtQ_95L"
      },
      "source": [
        "x = 0\n",
        "y = 10\n",
        "while x < y:\n",
        "  print(x)\n",
        "  x = x + 1"
      ],
      "execution_count": null,
      "outputs": []
    },
    {
      "cell_type": "code",
      "metadata": {
        "id": "Xg0A-LfUACBk"
      },
      "source": [
        "n = [53,1,2,67,-9,12]\n",
        "minnum = 10000\n",
        "for i in n:\n",
        "  if i < minnum:\n",
        "    minnum = i\n",
        "    print(minnum)"
      ],
      "execution_count": null,
      "outputs": []
    },
    {
      "cell_type": "markdown",
      "metadata": {
        "id": "poFJ4lrTBSkt"
      },
      "source": [
        "**8) ฟังก์ชัน โปรแกรมย่อย**"
      ]
    },
    {
      "cell_type": "code",
      "metadata": {
        "id": "7zSR5w8fAhrE"
      },
      "source": [
        "numberToGuess = 24\n",
        "def guessmynum():\n",
        "  print('ทายเลขอะไรดีครับ')\n",
        "  myguess = int(input())\n",
        "  if myguess < numberToGuess:\n",
        "    print('ผิดครับ ทายน้อยเกินไป')\n",
        "    return guessmynum()\n",
        "  elif myguess > numberToGuess:\n",
        "    print('ผิดครับ ทายมากเกินไป')\n",
        "    return guessmynum()\n",
        "  else:\n",
        "    print('ถูกต้องนะครับ')\n",
        "    return 'finish'"
      ],
      "execution_count": null,
      "outputs": []
    },
    {
      "cell_type": "code",
      "metadata": {
        "id": "NV2i1oCJBh1d"
      },
      "source": [
        "guessmynum()"
      ],
      "execution_count": null,
      "outputs": []
    },
    {
      "cell_type": "code",
      "metadata": {
        "id": "HSar4OdLnaef"
      },
      "source": [
        "def add_func(a,b):\n",
        "  result = a+b\n",
        "  return result"
      ],
      "execution_count": null,
      "outputs": []
    },
    {
      "cell_type": "code",
      "metadata": {
        "id": "B2vroVobnkZA"
      },
      "source": [
        "a= int(input())\n",
        "b= int(input())\n",
        "r = add_func(a,b)\n",
        "print(r)"
      ],
      "execution_count": null,
      "outputs": []
    },
    {
      "cell_type": "markdown",
      "metadata": {
        "id": "R8wokNle9O2n"
      },
      "source": [
        "# **แบบฝึกหัด**\n",
        "\n",
        "จงเขียนโปรแกรมที่ประกอบด้วยคำสั่งดังต่อไปนี้\n",
        "- การประกาศตัวแปร\n",
        "- การเปรียบเทียบข้อมูล\n",
        "- การทำซ้ำหรือวนลูป\n",
        "- ฟังก์ชัน\n"
      ]
    },
    {
      "cell_type": "code",
      "metadata": {
        "id": "7oeYSA3T-ezS",
        "colab": {
          "base_uri": "https://localhost:8080/"
        },
        "outputId": "790d032e-4a30-4bc8-ea8f-f315197e22e6"
      },
      "source": [
        "# ตัวอย่างเช่น\n",
        "def fLess(myNumber):  # ประกาศฟังก์ชัน\n",
        "  for i in range(myNumber):  # การทำซ้ำ\n",
        "    print('I love you')\n",
        "\n",
        "def fMore(myNumber):\n",
        "  for i in range(myNumber):\n",
        "    print('I love you more')\n",
        "\n",
        "myNumber = 0    # ประกาศตัวแปร\n",
        "myNumber = int(input())\n",
        "\n",
        "if myNumber > 5:  # การเปรียบเทียบ\n",
        "  fMore(myNumber)\n",
        "else:\n",
        "  fLess(myNumber)\n"
      ],
      "execution_count": null,
      "outputs": [
        {
          "output_type": "stream",
          "name": "stdout",
          "text": [
            "5\n",
            "I love you\n",
            "I love you\n",
            "I love you\n",
            "I love you\n",
            "I love you\n"
          ]
        }
      ]
    }
  ]
}